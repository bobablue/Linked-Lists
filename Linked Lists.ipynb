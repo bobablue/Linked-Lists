{
 "cells": [
  {
   "cell_type": "markdown",
   "id": "58d64d13",
   "metadata": {},
   "source": [
    "Singly linked list "
   ]
  },
  {
   "cell_type": "code",
   "execution_count": 1,
   "id": "98616f24",
   "metadata": {},
   "outputs": [],
   "source": [
    "class Node:\n",
    "    def __init__(self, data):\n",
    "        self.data = data\n",
    "        self.next = None\n",
    "\n",
    "    def __repr__(self):\n",
    "        return(str(self.data))"
   ]
  },
  {
   "cell_type": "code",
   "execution_count": 2,
   "id": "d5c36c84",
   "metadata": {},
   "outputs": [],
   "source": [
    "class LinkedList:\n",
    "    def __init__(self, nodes=None):\n",
    "        self.head = None\n",
    "\n",
    "        # create head of linked list\n",
    "        if nodes is not None:\n",
    "            node = Node(data=nodes.pop(0))\n",
    "            self.head = node\n",
    "\n",
    "            # link all subsequent elements after head\n",
    "            for i in nodes:\n",
    "                node.next = Node(i)\n",
    "                node = node.next\n",
    "\n",
    "    def __repr__(self):\n",
    "        node = self.head\n",
    "        nodes = []\n",
    "        while node is not None:\n",
    "            nodes.append(node.data)\n",
    "            node = node.next\n",
    "        nodes.append(\"None\")\n",
    "        return(\" -> \".join([str(i) for i in nodes]))\n",
    "\n",
    "    def __iter__(self):\n",
    "        node = self.head\n",
    "        while node is not None:\n",
    "            yield node\n",
    "            node = node.next\n",
    "\n",
    "    def __getitem__(self, index):\n",
    "        length = self.length()\n",
    "        neg_index = {-k:v for k,v in zip(range(1,length+1),reversed(range(length)))}\n",
    "        if index<0 and index in neg_index.keys():\n",
    "            index = neg_index[index]\n",
    "\n",
    "        count = 0\n",
    "        for node in self:\n",
    "            if count==index:\n",
    "                return(node.data)\n",
    "            count = count+1\n",
    "        raise Exception(f'Index {index} is out of range')\n",
    "\n",
    "    def add_first(self, node):\n",
    "        node.next = self.head\n",
    "        self.head = node\n",
    "\n",
    "    def add_last(self, node):\n",
    "        if self.head is None:\n",
    "            self.head = node\n",
    "            return\n",
    "\n",
    "        # have to iterate through the whole linked list to reach last node, before adding new node\n",
    "        for current_node in self:\n",
    "            pass\n",
    "        current_node.next = node\n",
    "\n",
    "    def add_after(self, target_node_data, new_node):\n",
    "        if self.head is None:\n",
    "            raise Exception(\"List is empty\")\n",
    "\n",
    "        for node in self:\n",
    "            if node.data==target_node_data:\n",
    "                new_node.next = node.next\n",
    "                node.next = new_node\n",
    "                return\n",
    "\n",
    "        raise Exception(f'Node with data {target_node_data} not found')\n",
    "\n",
    "    def add_before(self, target_node_data, new_node):\n",
    "        if self.head is None:\n",
    "            raise Exception(\"List is empty\")\n",
    "\n",
    "        if self.head.data==target_node_data:\n",
    "            return(self.add_first(new_node))\n",
    "\n",
    "        prev_node = self.head\n",
    "        for node in self:\n",
    "            if node.data==target_node_data:\n",
    "                prev_node.next = new_node\n",
    "                new_node.next = node\n",
    "                return\n",
    "            prev_node = node\n",
    "\n",
    "        raise Exception(f'Node with data {target_node_data} not found')\n",
    "\n",
    "    def remove_node(self, target_node):\n",
    "        if self.head is None:\n",
    "            raise Exception(\"List is empty\")\n",
    "\n",
    "        if self.head.data==target_node:\n",
    "            self.head = self.head.next\n",
    "            return\n",
    "\n",
    "        prev_node = self.head\n",
    "        for node in self:\n",
    "            if node.data==target_node:\n",
    "                prev_node.next = node.next\n",
    "                return\n",
    "            prev_node = node\n",
    "\n",
    "        raise Exception(f'Node with data {target_node_data} not found')\n",
    "\n",
    "    def reverse(self):\n",
    "        prev = None\n",
    "        current = self.head\n",
    "        while current is not None:\n",
    "            nxt = current.next\n",
    "            current.next = prev\n",
    "            prev = current\n",
    "            current = nxt\n",
    "        self.head = prev\n",
    "\n",
    "    def length(self):\n",
    "        count = 0\n",
    "        for node in self:\n",
    "            count = count+1\n",
    "        return(count)"
   ]
  },
  {
   "cell_type": "code",
   "execution_count": 3,
   "id": "4a2c1d6d",
   "metadata": {
    "scrolled": true
   },
   "outputs": [
    {
     "name": "stdout",
     "output_type": "stream",
     "text": [
      "1 -> 2 -> 3 -> None\n"
     ]
    }
   ],
   "source": [
    "llist = LinkedList([1,2,3])\n",
    "print(llist)"
   ]
  },
  {
   "cell_type": "code",
   "execution_count": 4,
   "id": "6ec45ec1",
   "metadata": {
    "scrolled": true
   },
   "outputs": [
    {
     "name": "stdout",
     "output_type": "stream",
     "text": [
      "1\n",
      "2\n",
      "3\n"
     ]
    }
   ],
   "source": [
    "llist = LinkedList([1,2,3])\n",
    "for i in llist:\n",
    "    print(i)"
   ]
  },
  {
   "cell_type": "code",
   "execution_count": 5,
   "id": "0b187d41",
   "metadata": {
    "scrolled": true
   },
   "outputs": [
    {
     "name": "stdout",
     "output_type": "stream",
     "text": [
      "1 3\n"
     ]
    }
   ],
   "source": [
    "llist = LinkedList([1,2,3])\n",
    "print(llist[0], llist[-1])"
   ]
  },
  {
   "cell_type": "code",
   "execution_count": 6,
   "id": "ab852ff0",
   "metadata": {
    "scrolled": true
   },
   "outputs": [
    {
     "name": "stdout",
     "output_type": "stream",
     "text": [
      "1 -> 2 -> 3 -> None\n",
      "0 -> 1 -> 2 -> 3 -> None\n"
     ]
    }
   ],
   "source": [
    "llist = LinkedList([1,2,3])\n",
    "print(llist)\n",
    "llist.add_first(Node(0))\n",
    "print(llist)"
   ]
  },
  {
   "cell_type": "code",
   "execution_count": 7,
   "id": "f183ecb8",
   "metadata": {
    "scrolled": true
   },
   "outputs": [
    {
     "name": "stdout",
     "output_type": "stream",
     "text": [
      "1 -> 2 -> 3 -> None\n",
      "1 -> 2 -> 3 -> 4 -> None\n"
     ]
    }
   ],
   "source": [
    "llist = LinkedList([1,2,3])\n",
    "print(llist)\n",
    "llist.add_last(Node(4))\n",
    "print(llist)"
   ]
  },
  {
   "cell_type": "code",
   "execution_count": 8,
   "id": "150fc718",
   "metadata": {
    "scrolled": true
   },
   "outputs": [
    {
     "name": "stdout",
     "output_type": "stream",
     "text": [
      "1 -> 2 -> 3 -> None\n",
      "1 -> 2 -> 2.5 -> 3 -> None\n"
     ]
    }
   ],
   "source": [
    "llist = LinkedList([1,2,3])\n",
    "print(llist)\n",
    "llist.add_after(2,Node(2.5))\n",
    "print(llist)"
   ]
  },
  {
   "cell_type": "code",
   "execution_count": 9,
   "id": "bc54f2b9",
   "metadata": {},
   "outputs": [
    {
     "name": "stdout",
     "output_type": "stream",
     "text": [
      "1 -> 2 -> 3 -> None\n",
      "1 -> 1.5 -> 2 -> 3 -> None\n"
     ]
    }
   ],
   "source": [
    "llist = LinkedList([1,2,3])\n",
    "print(llist)\n",
    "llist.add_before(2,Node(1.5))\n",
    "print(llist)"
   ]
  },
  {
   "cell_type": "code",
   "execution_count": 10,
   "id": "947a975b",
   "metadata": {},
   "outputs": [
    {
     "name": "stdout",
     "output_type": "stream",
     "text": [
      "1 -> 2 -> 3 -> None\n",
      "2 -> 3 -> None\n"
     ]
    }
   ],
   "source": [
    "llist = LinkedList([1,2,3])\n",
    "print(llist)\n",
    "llist.remove_node(1)\n",
    "print(llist)"
   ]
  },
  {
   "cell_type": "code",
   "execution_count": 11,
   "id": "cf318fa7",
   "metadata": {},
   "outputs": [
    {
     "name": "stdout",
     "output_type": "stream",
     "text": [
      "1 -> 2 -> 3 -> None\n",
      "3 -> 2 -> 1 -> None\n"
     ]
    }
   ],
   "source": [
    "llist = LinkedList([1,2,3])\n",
    "print(llist)\n",
    "llist.reverse()\n",
    "print(llist)"
   ]
  },
  {
   "cell_type": "code",
   "execution_count": 12,
   "id": "85632288",
   "metadata": {},
   "outputs": [
    {
     "data": {
      "text/plain": [
       "3"
      ]
     },
     "execution_count": 12,
     "metadata": {},
     "output_type": "execute_result"
    }
   ],
   "source": [
    "llist = LinkedList([1,2,3])\n",
    "llist.length()"
   ]
  }
 ],
 "metadata": {
  "jupytext": {
   "cell_metadata_filter": "-all",
   "formats": "ipynb,py",
   "notebook_metadata_filter": "-all"
  },
  "kernelspec": {
   "display_name": "Python 3 (ipykernel)",
   "language": "python",
   "name": "python3"
  },
  "language_info": {
   "codemirror_mode": {
    "name": "ipython",
    "version": 3
   },
   "file_extension": ".py",
   "mimetype": "text/x-python",
   "name": "python",
   "nbconvert_exporter": "python",
   "pygments_lexer": "ipython3",
   "version": "3.9.13"
  }
 },
 "nbformat": 4,
 "nbformat_minor": 5
}
